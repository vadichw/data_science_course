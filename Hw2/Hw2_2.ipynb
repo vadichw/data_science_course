{
  "nbformat": 4,
  "nbformat_minor": 0,
  "metadata": {
    "colab": {
      "provenance": []
    },
    "kernelspec": {
      "name": "python3",
      "display_name": "Python 3"
    },
    "language_info": {
      "name": "python"
    }
  },
  "cells": [
    {
      "cell_type": "code",
      "execution_count": 20,
      "metadata": {
        "id": "-soYCxmvhWVD"
      },
      "outputs": [],
      "source": [
        "import pandas as pd\n",
        "import numpy as np\n",
        "import matplotlib.pyplot as plt"
      ]
    },
    {
      "cell_type": "code",
      "source": [
        "data = pd.read_csv('/content/2017_jun_final - 2017_jun_final.csv')"
      ],
      "metadata": {
        "id": "va5vT_lvhrTR"
      },
      "execution_count": 45,
      "outputs": []
    },
    {
      "cell_type": "code",
      "source": [
        "print(data.head())"
      ],
      "metadata": {
        "id": "LcL1ThK5ZYVQ",
        "colab": {
          "base_uri": "https://localhost:8080/"
        },
        "outputId": "e6ca4bad-6530-43b5-da6c-40508620564c"
      },
      "execution_count": 46,
      "outputs": [
        {
          "output_type": "stream",
          "name": "stdout",
          "text": [
            "   N                    Посада Мова програмування Спеціалізація  \\\n",
            "0  1        Junior QA engineer                NaN     Manual QA   \n",
            "1  2        Junior QA engineer                NaN     Manual QA   \n",
            "2  3         Software Engineer            C#/.NET           NaN   \n",
            "3  4         Software Engineer         JavaScript           NaN   \n",
            "4  5  Senior Software Engineer         JavaScript           NaN   \n",
            "\n",
            "  Загальний досвід роботи Досвід роботи на поточному місці  \\\n",
            "0                     0.5                              0.5   \n",
            "1         менше 3 місяців                  менше 3 місяців   \n",
            "2                       4                                1   \n",
            "3                       5                                4   \n",
            "4       10 і більше років                              0.5   \n",
            "\n",
            "   Зарплата на місяць  Зміна зарплати за 12 місяців   Місто   Розмір компанії  \\\n",
            "0                 400                             0  Харків        до 10 осіб   \n",
            "1                 430                           130  Харків  більше 1000 осіб   \n",
            "2                2500                           800    Київ      до 1000 осіб   \n",
            "3                2000                           400   Одеса       до 200 осіб   \n",
            "4                4500                           500    Інше        до 10 осіб   \n",
            "\n",
            "   ... Ще студент                    Рівень англійської  \\\n",
            "0  ...       True    Pre-intermediate (нище середнього)   \n",
            "1  ...       True  Upper-Intermediate (вище середнього)   \n",
            "2  ...      False               Intermediate (середній)   \n",
            "3  ...      False    Pre-intermediate (нище середнього)   \n",
            "4  ...      False               Intermediate (середній)   \n",
            "\n",
            "                   Предметна область      Дата заповнення  \\\n",
            "0                      iOS,eCommerce  12/06/2017 12:38:08   \n",
            "1                       Веб-розробка  12/06/2017 12:42:51   \n",
            "2  Веб-розробка,Корпоративні системи  12/06/2017 13:02:47   \n",
            "3  Desktop Applications,Веб-розробка  12/06/2017 13:03:01   \n",
            "4  Desktop Applications,Веб-розробка  12/06/2017 13:03:47   \n",
            "\n",
            "                                          User.Agent   exp current_job_exp  \\\n",
            "0  Mozilla/5.0 (Windows NT 10.0; Win64; x64) Appl...   0.5             0.5   \n",
            "1  Mozilla/5.0 (iPad; CPU OS 10_2_1 like Mac OS X...   0.0             0.0   \n",
            "2  Mozilla/5.0 (Windows NT 10.0; Win64; x64) Appl...   4.0             1.0   \n",
            "3  Mozilla/5.0 (Windows NT 6.1; Win64; x64) Apple...   5.0             4.0   \n",
            "4  Mozilla/5.0 (iPhone; CPU iPhone OS 10_3_2 like...  10.0             0.5   \n",
            "\n",
            "  salary Валюта  cls  \n",
            "0    400    NaN   QA  \n",
            "1    430    NaN   QA  \n",
            "2   2500    NaN  DEV  \n",
            "3   2000    NaN  DEV  \n",
            "4   4500    NaN  DEV  \n",
            "\n",
            "[5 rows x 25 columns]\n"
          ]
        }
      ]
    },
    {
      "cell_type": "code",
      "source": [
        "print(\"Розмір:\", data.shape) # Розмір: (8704, 25)"
      ],
      "metadata": {
        "id": "rQpIRam2Zx32"
      },
      "execution_count": null,
      "outputs": []
    },
    {
      "cell_type": "code",
      "source": [
        "print(\"Типи:\", data.dtypes)"
      ],
      "metadata": {
        "id": "xz4HCkROaAa_"
      },
      "execution_count": null,
      "outputs": []
    },
    {
      "cell_type": "code",
      "source": [
        "# Частка пропусків міститься в кожній колонці\n",
        "print(data.isnull().sum()/ len(data))"
      ],
      "metadata": {
        "id": "jUMIUuAraaol"
      },
      "execution_count": null,
      "outputs": []
    },
    {
      "cell_type": "code",
      "source": [
        "# Видаліть усі стовпці з пропусками, крім стовпця \"Мова програмування\"\n",
        "# метод dropna призначений спеціально для видалення рядків або стовпців, які містять пропущені значення.\n",
        "col_list = [col for col in data.columns if col not in [\"Мова програмування\"]]\n",
        "data_drop = data[col_list].dropna(axis=1, how='any')\n",
        "join_data = pd.concat([data_drop, data[['N', 'Мова програмування']]], axis=1, join='outer')"
      ],
      "metadata": {
        "id": "hqPm8L0sbRxP"
      },
      "execution_count": 9,
      "outputs": []
    },
    {
      "cell_type": "code",
      "source": [
        "# Знову порахуйте, яка частка пропусків міститься в кожній колонці\n",
        "# Переконайтеся, що залишився тільки стовпець \"Мова.програмування\"\n",
        "print(data.isnull().sum()/ len(data))\n",
        "print('*********************************')\n",
        "print(data.columns)"
      ],
      "metadata": {
        "id": "uraIQkqXcwEB"
      },
      "execution_count": null,
      "outputs": []
    },
    {
      "cell_type": "code",
      "source": [
        "# Видаліть усі рядки у вихідній таблиці за допомогою методу\n",
        "data.dropna(inplace=True)"
      ],
      "metadata": {
        "id": "RsAzN8Y0hV55"
      },
      "execution_count": 11,
      "outputs": []
    },
    {
      "cell_type": "code",
      "source": [
        "# Визначте новий розмір таблиці за допомогою методу shape\n",
        "print(data.shape)"
      ],
      "metadata": {
        "id": "uiVV1pkShbQJ"
      },
      "execution_count": null,
      "outputs": []
    },
    {
      "cell_type": "code",
      "source": [
        "# Створіть нову таблицю python_data, в якій будуть тільки рядки зі спеціалістами, які вказали мову програмування Python\n",
        "python_data = data[data['Мова програмування'].str.contains('Python', na=False)]\n",
        "print(python_data)"
      ],
      "metadata": {
        "id": "Ia14zeRCcIU-"
      },
      "execution_count": null,
      "outputs": []
    },
    {
      "cell_type": "code",
      "source": [
        "# Визначте розмір таблиці python_data за допомогою методу shape\n",
        "print(python_data.shape)"
      ],
      "metadata": {
        "colab": {
          "base_uri": "https://localhost:8080/"
        },
        "id": "OaFRVuegc_nt",
        "outputId": "0ccd1799-7ae9-419a-9041-324894e0c353"
      },
      "execution_count": 14,
      "outputs": [
        {
          "output_type": "stream",
          "name": "stdout",
          "text": [
            "(207, 25)\n"
          ]
        }
      ]
    },
    {
      "cell_type": "code",
      "source": [
        "# Використовуючи метод groupby, виконайте групування за стовпчиком \"Посада\"\n",
        "grouped_by_posada = data.groupby('Посада')\n",
        "print(grouped_by_posada)"
      ],
      "metadata": {
        "id": "RoctuwRodHhd"
      },
      "execution_count": null,
      "outputs": []
    },
    {
      "cell_type": "code",
      "source": [
        "# Створіть новий DataFrame, де для згрупованих даних за стовпчиком \"Посада\",\n",
        "# виконайте агрегацію даних за допомогою методу agg і знайдіть мінімальне та максимальне значення у стовпчику \"Зарплата.в.місяць\"\n",
        "grouped_by_posada = data.groupby('Посада')['Зарплата на місяць'].agg(['min', 'max'])\n",
        "print(grouped_by_posada)"
      ],
      "metadata": {
        "id": "QZaOscU0eqVs"
      },
      "execution_count": null,
      "outputs": []
    },
    {
      "cell_type": "code",
      "source": [
        "# Створіть функцію fill_avg_salary, яка повертатиме середнє значення заробітної плати на місяць.\n",
        "# Використовуйте її для методу apply та створіть новий стовпчик \"avg\"\n",
        "\n",
        "\n",
        "def fill_avg_salary(column):\n",
        "    return column.mean()\n",
        "\n",
        "# Агрегація даних за посадами та обчислення мінімального, максимального значень і середнього\n",
        "grouped_by_posada = data.groupby('Посада')['Зарплата на місяць'].apply(fill_avg_salary).reset_index(name='avg')\n",
        "\n",
        "# Додавання стовпців з мінімальним та максимальним значеннями\n",
        "grouped_by_posada[['min', 'max']] = data.groupby('Посада')['Зарплата на місяць'].agg(['min', 'max']).reset_index(drop=True)\n",
        "\n",
        "# Виведення результатів\n",
        "print(grouped_by_posada)"
      ],
      "metadata": {
        "id": "yGnis0vWfX6z"
      },
      "execution_count": null,
      "outputs": []
    },
    {
      "cell_type": "code",
      "source": [
        "# Створіть описову статистику за допомогою методу describe для нового стовпчика.\n",
        "avg_stats = grouped_by_posada['avg'].describe()\n",
        "print(avg_stats)"
      ],
      "metadata": {
        "id": "n9Oa05dMppka"
      },
      "execution_count": null,
      "outputs": []
    },
    {
      "cell_type": "code",
      "source": [
        "# Збережіть отриману таблицю в CSV файл\n",
        "write_to_csv = avg_stats.to_csv('descriptive statistics.csv', index=False)"
      ],
      "metadata": {
        "id": "JJiZod-bqHvY"
      },
      "execution_count": 19,
      "outputs": []
    },
    {
      "cell_type": "code",
      "source": [
        "# Графік\n",
        "import pandas as pd\n",
        "import matplotlib.pyplot as plt\n",
        "\n",
        "data = pd.read_csv('/content/2017_jun_final - 2017_jun_final.csv')\n",
        "\n",
        "position_counts = data['Посада'].value_counts()\n",
        "\n",
        "# Графік'Посада'\n",
        "plt.figure(figsize=(10, 6))\n",
        "plt.bar(position_counts.index, position_counts.values)\n",
        "plt.xlabel('Position')\n",
        "plt.ylabel('Count')\n",
        "plt.title('Count of each position')\n",
        "plt.xticks(rotation=90)  # Rotate x-axis labels for better readability if needed\n",
        "plt.show()\n"
      ],
      "metadata": {
        "id": "11DLQgNlwErv"
      },
      "execution_count": null,
      "outputs": []
    },
    {
      "cell_type": "code",
      "source": [
        "# Графік 'Мова програмування'\n",
        "plt.figure(figsize=(10, 8))\n",
        "language_counts = data['Мова програмування'].value_counts()\n",
        "plt.bar(language_counts.index, language_counts.values, color='green')\n",
        "plt.xlabel('Programming language')\n",
        "plt.ylabel('Count')\n",
        "plt.title('Count of each programming language')\n",
        "plt.xticks(rotation=90)\n",
        "plt.show()"
      ],
      "metadata": {
        "id": "QJhchiJWwjiz"
      },
      "execution_count": null,
      "outputs": []
    },
    {
      "cell_type": "code",
      "source": [
        "plt.figure(figsize=(10, 8))\n",
        "city_counts = data['Місто'].value_counts()\n",
        "plt.bar(city_counts.index, city_counts.values, color = 'red')\n",
        "plt.xlabel('City')\n",
        "plt.ylabel('Count people')\n",
        "plt.title('Where people works')\n",
        "plt.xticks(rotation=90)\n",
        "plt.show()"
      ],
      "metadata": {
        "id": "JZDOnm6V0uIU"
      },
      "execution_count": null,
      "outputs": []
    }
  ]
}
